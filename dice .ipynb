{
 "cells": [
  {
   "cell_type": "code",
   "execution_count": null,
   "metadata": {
    "scrolled": true
   },
   "outputs": [
    {
     "name": "stdout",
     "output_type": "stream",
     "text": [
      "Starting \\"
     ]
    }
   ],
   "source": [
    "import pyttsx3\n",
    "import os\n",
    "import speech_recognition as srg\n",
    "import time,random,sys\n",
    "d=['''---------\n",
    "|       |\n",
    "|   0   |\n",
    "|       |\n",
    "---------''','''---------\n",
    "|       |\n",
    "| 0  0  |\n",
    "|       |\n",
    "---------''','''---------\n",
    "|     0 |\n",
    "|   0   |\n",
    "| 0     |\n",
    "---------''','''---------\n",
    "| 0   0 |\n",
    "|       |\n",
    "| 0   0 |\n",
    "---------''','''---------\n",
    "| 0   0 |\n",
    "|   0   |\n",
    "| 0   0 |\n",
    "---------''','''---------\n",
    "| 0   0 |\n",
    "| 0   0 |\n",
    "| 0   0 |\n",
    "---------''']\n",
    "for i in range(10):\n",
    "    sys.stdout.write(\"\\rStarting |\")\n",
    "    time.sleep(0.1)\n",
    "    sys.stdout.write(\"\\rStarting /\")\n",
    "    time.sleep(0.1)\n",
    "    sys.stdout.write(\"\\rStarting -\")\n",
    "    time.sleep(0.1)\n",
    "    sys.stdout.write(\"\\rStarting \\\\\")\n",
    "    time.sleep(0.1)\n",
    "engine= pyttsx3.init()\n",
    "voices = engine.getProperty('voices')\n",
    "engine.setProperty('voice', voices[1].id)\n",
    "engine.setProperty('rate', 125)\n",
    "engine.setProperty('volume',1.0)\n",
    "engine.say(\"Hello sir, I am Infinty your personalized bot.\")\n",
    "engine.say(\"rolling a dice?\")\n",
    "engine.runAndWait()\n",
    "print(random.choice(d))\n",
    "\n",
    "    \n",
    "    "
   ]
  },
  {
   "cell_type": "code",
   "execution_count": 2,
   "metadata": {},
   "outputs": [
    {
     "ename": "ModuleNotFoundError",
     "evalue": "No module named 'PyAudio'",
     "output_type": "error",
     "traceback": [
      "\u001b[1;31m---------------------------------------------------------------------------\u001b[0m",
      "\u001b[1;31mModuleNotFoundError\u001b[0m                       Traceback (most recent call last)",
      "\u001b[1;32m<ipython-input-2-580a846491d0>\u001b[0m in \u001b[0;36m<module>\u001b[1;34m\u001b[0m\n\u001b[1;32m----> 1\u001b[1;33m \u001b[1;32mimport\u001b[0m \u001b[0mPyAudio\u001b[0m\u001b[1;33m\u001b[0m\u001b[1;33m\u001b[0m\u001b[0m\n\u001b[0m",
      "\u001b[1;31mModuleNotFoundError\u001b[0m: No module named 'PyAudio'"
     ]
    }
   ],
   "source": [
    "import PyAudio"
   ]
  },
  {
   "cell_type": "code",
   "execution_count": null,
   "metadata": {},
   "outputs": [],
   "source": [
    "import"
   ]
  }
 ],
 "metadata": {
  "kernelspec": {
   "display_name": "Python 3",
   "language": "python",
   "name": "python3"
  },
  "language_info": {
   "codemirror_mode": {
    "name": "ipython",
    "version": 3
   },
   "file_extension": ".py",
   "mimetype": "text/x-python",
   "name": "python",
   "nbconvert_exporter": "python",
   "pygments_lexer": "ipython3",
   "version": "3.8.1"
  }
 },
 "nbformat": 4,
 "nbformat_minor": 4
}
