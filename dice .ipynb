{
 "cells": [
  {
   "cell_type": "code",
   "execution_count": 1,
   "metadata": {
    "scrolled": true
   },
   "outputs": [
    {
     "name": "stdout",
     "output_type": "stream",
     "text": [
      "Starting \\\n",
      "---------\n",
      "| 0   0 |\n",
      "|   0   |\n",
      "| 0   0 |\n",
      "---------\n"
     ]
    }
   ],
   "source": [
    "import pyttsx3\n",
    "import os\n",
    "import speech_recognition as srg\n",
    "import time,random,sys\n",
    "d=['''---------\n",
    "|       |\n",
    "|   0   |\n",
    "|       |\n",
    "---------''','''---------\n",
    "|       |\n",
    "| 0  0  |\n",
    "|       |\n",
    "---------''','''---------\n",
    "|     0 |\n",
    "|   0   |\n",
    "| 0     |\n",
    "---------''','''---------\n",
    "| 0   0 |\n",
    "|       |\n",
    "| 0   0 |\n",
    "---------''','''---------\n",
    "| 0   0 |\n",
    "|   0   |\n",
    "| 0   0 |\n",
    "---------''','''---------\n",
    "| 0   0 |\n",
    "| 0   0 |\n",
    "| 0   0 |\n",
    "---------''']\n",
    "for i in range(10):\n",
    "    sys.stdout.write(\"\\rStarting |\")\n",
    "    time.sleep(0.1)\n",
    "    sys.stdout.write(\"\\rStarting /\")\n",
    "    time.sleep(0.1)\n",
    "    sys.stdout.write(\"\\rStarting -\")\n",
    "    time.sleep(0.1)\n",
    "    sys.stdout.write(\"\\rStarting \\\\\")\n",
    "    time.sleep(0.1)\n",
    "print()\n",
    "engine= pyttsx3.init()\n",
    "voices = engine.getProperty('voices')\n",
    "engine.setProperty('voice', voices[1].id)\n",
    "engine.setProperty('rate', 125)\n",
    "engine.setProperty('volume',1.0)\n",
    "engine.say(\"Hello sir, I am jarvis your personalized bot.\")\n",
    "engine.say(\"rolling a dice\")\n",
    "engine.runAndWait()\n",
    "print(random.choice(d))\n",
    "\n",
    "    \n",
    "    "
   ]
  },
  {
   "cell_type": "code",
   "execution_count": null,
   "metadata": {},
   "outputs": [],
   "source": []
  },
  {
   "cell_type": "code",
   "execution_count": null,
   "metadata": {},
   "outputs": [],
   "source": []
  },
  {
   "cell_type": "code",
   "execution_count": null,
   "metadata": {},
   "outputs": [],
   "source": []
  },
  {
   "cell_type": "code",
   "execution_count": null,
   "metadata": {},
   "outputs": [],
   "source": []
  }
 ],
 "metadata": {
  "kernelspec": {
   "display_name": "Python 3",
   "language": "python",
   "name": "python3"
  },
  "language_info": {
   "codemirror_mode": {
    "name": "ipython",
    "version": 3
   },
   "file_extension": ".py",
   "mimetype": "text/x-python",
   "name": "python",
   "nbconvert_exporter": "python",
   "pygments_lexer": "ipython3",
   "version": "3.8.1"
  }
 },
 "nbformat": 4,
 "nbformat_minor": 4
}
